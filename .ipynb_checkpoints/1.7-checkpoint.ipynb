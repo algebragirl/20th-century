{
 "cells": [
  {
   "cell_type": "markdown",
   "id": "36669054-10e4-40d3-8f93-ec62e2fbc2a6",
   "metadata": {
    "tags": []
   },
   "source": [
    "# 1.7 Network graph visualization"
   ]
  },
  {
   "cell_type": "code",
   "execution_count": 33,
   "id": "ed48db12-4679-4e5c-b376-cc1db75381a6",
   "metadata": {},
   "outputs": [
    {
     "ename": "ModuleNotFoundError",
     "evalue": "No module named 'cdlib'",
     "output_type": "error",
     "traceback": [
      "\u001b[1;31m---------------------------------------------------------------------------\u001b[0m",
      "\u001b[1;31mModuleNotFoundError\u001b[0m                       Traceback (most recent call last)",
      "Cell \u001b[1;32mIn[33], line 9\u001b[0m\n\u001b[0;32m      7\u001b[0m \u001b[38;5;28;01mimport\u001b[39;00m \u001b[38;5;21;01mseaborn\u001b[39;00m \u001b[38;5;28;01mas\u001b[39;00m \u001b[38;5;21;01msns\u001b[39;00m\n\u001b[0;32m      8\u001b[0m \u001b[38;5;28;01mimport\u001b[39;00m \u001b[38;5;21;01mpyvis\u001b[39;00m\n\u001b[1;32m----> 9\u001b[0m \u001b[38;5;28;01mimport\u001b[39;00m \u001b[38;5;21;01mcdlib\u001b[39;00m\n",
      "\u001b[1;31mModuleNotFoundError\u001b[0m: No module named 'cdlib'"
     ]
    }
   ],
   "source": [
    "import pandas as pd\n",
    "import numpy as np\n",
    "import networkx as nx\n",
    "import os\n",
    "import matplotlib.pyplot as plt\n",
    "from pyvis.network import Network\n",
    "import seaborn as sns\n",
    "import pyvis\n",
    "import cdlib"
   ]
  },
  {
   "cell_type": "code",
   "execution_count": 4,
   "id": "235c50f1-9bf6-4134-87ed-78c73d32523e",
   "metadata": {},
   "outputs": [],
   "source": [
    "# Import relationship data\n",
    "\n",
    "relationship_df = pd.read_csv('country_relationship.csv', index_col = 0)"
   ]
  },
  {
   "cell_type": "code",
   "execution_count": 5,
   "id": "d6b984e0-7d86-4d03-b7a6-dfe0b8b47b64",
   "metadata": {
    "tags": []
   },
   "outputs": [
    {
     "data": {
      "text/html": [
       "<div>\n",
       "<style scoped>\n",
       "    .dataframe tbody tr th:only-of-type {\n",
       "        vertical-align: middle;\n",
       "    }\n",
       "\n",
       "    .dataframe tbody tr th {\n",
       "        vertical-align: top;\n",
       "    }\n",
       "\n",
       "    .dataframe thead th {\n",
       "        text-align: right;\n",
       "    }\n",
       "</style>\n",
       "<table border=\"1\" class=\"dataframe\">\n",
       "  <thead>\n",
       "    <tr style=\"text-align: right;\">\n",
       "      <th></th>\n",
       "      <th>source</th>\n",
       "      <th>target</th>\n",
       "      <th>value</th>\n",
       "    </tr>\n",
       "  </thead>\n",
       "  <tbody>\n",
       "    <tr>\n",
       "      <th>0</th>\n",
       "      <td>France</td>\n",
       "      <td>Russia</td>\n",
       "      <td>6</td>\n",
       "    </tr>\n",
       "    <tr>\n",
       "      <th>1</th>\n",
       "      <td>Italy</td>\n",
       "      <td>Russia</td>\n",
       "      <td>6</td>\n",
       "    </tr>\n",
       "    <tr>\n",
       "      <th>2</th>\n",
       "      <td>Italy</td>\n",
       "      <td>Romania</td>\n",
       "      <td>6</td>\n",
       "    </tr>\n",
       "    <tr>\n",
       "      <th>3</th>\n",
       "      <td>Germany</td>\n",
       "      <td>Romania</td>\n",
       "      <td>6</td>\n",
       "    </tr>\n",
       "    <tr>\n",
       "      <th>4</th>\n",
       "      <td>Austria</td>\n",
       "      <td>Germany</td>\n",
       "      <td>6</td>\n",
       "    </tr>\n",
       "    <tr>\n",
       "      <th>5</th>\n",
       "      <td>Austria</td>\n",
       "      <td>Hungary</td>\n",
       "      <td>6</td>\n",
       "    </tr>\n",
       "    <tr>\n",
       "      <th>6</th>\n",
       "      <td>Bulgaria</td>\n",
       "      <td>Hungary</td>\n",
       "      <td>6</td>\n",
       "    </tr>\n",
       "    <tr>\n",
       "      <th>7</th>\n",
       "      <td>Bulgaria</td>\n",
       "      <td>Germany</td>\n",
       "      <td>5</td>\n",
       "    </tr>\n",
       "    <tr>\n",
       "      <th>8</th>\n",
       "      <td>Germany</td>\n",
       "      <td>Italy</td>\n",
       "      <td>14</td>\n",
       "    </tr>\n",
       "    <tr>\n",
       "      <th>9</th>\n",
       "      <td>Germany</td>\n",
       "      <td>Spain</td>\n",
       "      <td>6</td>\n",
       "    </tr>\n",
       "    <tr>\n",
       "      <th>10</th>\n",
       "      <td>Japan</td>\n",
       "      <td>Spain</td>\n",
       "      <td>5</td>\n",
       "    </tr>\n",
       "    <tr>\n",
       "      <th>11</th>\n",
       "      <td>Germany</td>\n",
       "      <td>Japan</td>\n",
       "      <td>12</td>\n",
       "    </tr>\n",
       "    <tr>\n",
       "      <th>12</th>\n",
       "      <td>Italy</td>\n",
       "      <td>Japan</td>\n",
       "      <td>11</td>\n",
       "    </tr>\n",
       "    <tr>\n",
       "      <th>13</th>\n",
       "      <td>Germany</td>\n",
       "      <td>Poland</td>\n",
       "      <td>6</td>\n",
       "    </tr>\n",
       "    <tr>\n",
       "      <th>14</th>\n",
       "      <td>Canada</td>\n",
       "      <td>Poland</td>\n",
       "      <td>6</td>\n",
       "    </tr>\n",
       "    <tr>\n",
       "      <th>15</th>\n",
       "      <td>Canada</td>\n",
       "      <td>France</td>\n",
       "      <td>6</td>\n",
       "    </tr>\n",
       "    <tr>\n",
       "      <th>16</th>\n",
       "      <td>France</td>\n",
       "      <td>Japan</td>\n",
       "      <td>9</td>\n",
       "    </tr>\n",
       "    <tr>\n",
       "      <th>17</th>\n",
       "      <td>France</td>\n",
       "      <td>Germany</td>\n",
       "      <td>9</td>\n",
       "    </tr>\n",
       "    <tr>\n",
       "      <th>18</th>\n",
       "      <td>Cuba</td>\n",
       "      <td>France</td>\n",
       "      <td>1</td>\n",
       "    </tr>\n",
       "    <tr>\n",
       "      <th>19</th>\n",
       "      <td>Cuba</td>\n",
       "      <td>Vietnam</td>\n",
       "      <td>15</td>\n",
       "    </tr>\n",
       "    <tr>\n",
       "      <th>20</th>\n",
       "      <td>South Africa</td>\n",
       "      <td>Vietnam</td>\n",
       "      <td>1</td>\n",
       "    </tr>\n",
       "    <tr>\n",
       "      <th>21</th>\n",
       "      <td>India</td>\n",
       "      <td>South Africa</td>\n",
       "      <td>4</td>\n",
       "    </tr>\n",
       "    <tr>\n",
       "      <th>22</th>\n",
       "      <td>Ireland</td>\n",
       "      <td>Japan</td>\n",
       "      <td>6</td>\n",
       "    </tr>\n",
       "    <tr>\n",
       "      <th>23</th>\n",
       "      <td>Germany</td>\n",
       "      <td>Ireland</td>\n",
       "      <td>5</td>\n",
       "    </tr>\n",
       "    <tr>\n",
       "      <th>24</th>\n",
       "      <td>France</td>\n",
       "      <td>Italy</td>\n",
       "      <td>6</td>\n",
       "    </tr>\n",
       "    <tr>\n",
       "      <th>25</th>\n",
       "      <td>Japan</td>\n",
       "      <td>Russia</td>\n",
       "      <td>6</td>\n",
       "    </tr>\n",
       "    <tr>\n",
       "      <th>26</th>\n",
       "      <td>Egypt</td>\n",
       "      <td>Russia</td>\n",
       "      <td>3</td>\n",
       "    </tr>\n",
       "    <tr>\n",
       "      <th>27</th>\n",
       "      <td>France</td>\n",
       "      <td>Spain</td>\n",
       "      <td>4</td>\n",
       "    </tr>\n",
       "    <tr>\n",
       "      <th>28</th>\n",
       "      <td>Israel</td>\n",
       "      <td>Japan</td>\n",
       "      <td>5</td>\n",
       "    </tr>\n",
       "    <tr>\n",
       "      <th>29</th>\n",
       "      <td>Israel</td>\n",
       "      <td>Palestine</td>\n",
       "      <td>4</td>\n",
       "    </tr>\n",
       "    <tr>\n",
       "      <th>30</th>\n",
       "      <td>Cuba</td>\n",
       "      <td>Palestine</td>\n",
       "      <td>5</td>\n",
       "    </tr>\n",
       "    <tr>\n",
       "      <th>31</th>\n",
       "      <td>India</td>\n",
       "      <td>Vietnam</td>\n",
       "      <td>6</td>\n",
       "    </tr>\n",
       "    <tr>\n",
       "      <th>32</th>\n",
       "      <td>India</td>\n",
       "      <td>Pakistan</td>\n",
       "      <td>6</td>\n",
       "    </tr>\n",
       "    <tr>\n",
       "      <th>33</th>\n",
       "      <td>Pakistan</td>\n",
       "      <td>South Africa</td>\n",
       "      <td>2</td>\n",
       "    </tr>\n",
       "    <tr>\n",
       "      <th>34</th>\n",
       "      <td>Afghanistan</td>\n",
       "      <td>South Africa</td>\n",
       "      <td>2</td>\n",
       "    </tr>\n",
       "    <tr>\n",
       "      <th>35</th>\n",
       "      <td>Australia</td>\n",
       "      <td>Canada</td>\n",
       "      <td>6</td>\n",
       "    </tr>\n",
       "    <tr>\n",
       "      <th>36</th>\n",
       "      <td>Australia</td>\n",
       "      <td>New Zealand</td>\n",
       "      <td>6</td>\n",
       "    </tr>\n",
       "  </tbody>\n",
       "</table>\n",
       "</div>"
      ],
      "text/plain": [
       "          source        target  value\n",
       "0         France        Russia      6\n",
       "1          Italy        Russia      6\n",
       "2          Italy       Romania      6\n",
       "3        Germany       Romania      6\n",
       "4        Austria       Germany      6\n",
       "5        Austria       Hungary      6\n",
       "6       Bulgaria       Hungary      6\n",
       "7       Bulgaria       Germany      5\n",
       "8        Germany         Italy     14\n",
       "9        Germany         Spain      6\n",
       "10         Japan         Spain      5\n",
       "11       Germany         Japan     12\n",
       "12         Italy         Japan     11\n",
       "13       Germany        Poland      6\n",
       "14        Canada        Poland      6\n",
       "15        Canada        France      6\n",
       "16        France         Japan      9\n",
       "17        France       Germany      9\n",
       "18          Cuba        France      1\n",
       "19          Cuba       Vietnam     15\n",
       "20  South Africa       Vietnam      1\n",
       "21         India  South Africa      4\n",
       "22       Ireland         Japan      6\n",
       "23       Germany       Ireland      5\n",
       "24        France         Italy      6\n",
       "25         Japan        Russia      6\n",
       "26         Egypt        Russia      3\n",
       "27        France         Spain      4\n",
       "28        Israel         Japan      5\n",
       "29        Israel     Palestine      4\n",
       "30          Cuba     Palestine      5\n",
       "31         India       Vietnam      6\n",
       "32         India      Pakistan      6\n",
       "33      Pakistan  South Africa      2\n",
       "34   Afghanistan  South Africa      2\n",
       "35     Australia        Canada      6\n",
       "36     Australia   New Zealand      6"
      ]
     },
     "execution_count": 5,
     "metadata": {},
     "output_type": "execute_result"
    }
   ],
   "source": [
    "relationship_df"
   ]
  },
  {
   "cell_type": "code",
   "execution_count": 6,
   "id": "1f9a158a-b751-43ae-8d17-525fc289171e",
   "metadata": {},
   "outputs": [],
   "source": [
    "# Create a graph from a pandas dataframe\n",
    "\n",
    "G = nx.from_pandas_edgelist(relationship_df, \n",
    "                            source = \"source\", \n",
    "                            target = \"target\", \n",
    "                            edge_attr = \"value\", \n",
    "                            create_using = nx.Graph())"
   ]
  },
  {
   "cell_type": "markdown",
   "id": "4f1b45f4-9326-4d20-8d32-8bf46ac06e57",
   "metadata": {
    "tags": []
   },
   "source": [
    "#### Graph visualization - Networkx"
   ]
  },
  {
   "cell_type": "code",
   "execution_count": 8,
   "id": "9b75c9d1-abec-4af5-87b8-57cdb10f0fb9",
   "metadata": {
    "tags": []
   },
   "outputs": [
    {
     "data": {
      "image/png": "[encoded data removed]",
      "text/plain": [
       "<Figure size 700x700 with 1 Axes>"
      ]
     },
     "metadata": {},
     "output_type": "display_data"
    }
   ],
   "source": [
    "h = plt.figure(figsize = (7,7))\n",
    "pos = nx.kamada_kawai_layout(G)\n",
    "nx.draw(G, with_labels = True, node_color = 'red', edge_cmap = plt.cm.Blues, pos = pos)\n",
    "plt.show() "
   ]
  },
  {
   "cell_type": "code",
   "execution_count": 9,
   "id": "47e0bdb2-6a45-4dde-b3a5-7cd003ea01f7",
   "metadata": {},
   "outputs": [],
   "source": [
    "h.savefig('networkx_plt_country.png')"
   ]
  },
  {
   "cell_type": "markdown",
   "id": "272f5ede-8495-4116-b236-f01f1b8bc45d",
   "metadata": {},
   "source": [
    "#### Graph visualization - Pyvis"
   ]
  },
  {
   "cell_type": "code",
   "execution_count": 11,
   "id": "1c8f5062-e7cd-4918-9563-2ab35b9dcb4c",
   "metadata": {
    "tags": []
   },
   "outputs": [
    {
     "name": "stdout",
     "output_type": "stream",
     "text": [
      "Local cdn resources have problems on chrome/safari when used in jupyter-notebook. \n"
     ]
    },
    {
     "data": {
      "text/html": [
       "\n",
       "        <iframe\n",
       "            width=\"900px\"\n",
       "            height=\"800px\"\n",
       "            src=\"country.html\"\n",
       "            frameborder=\"0\"\n",
       "            allowfullscreen\n",
       "            \n",
       "        ></iframe>\n",
       "        "
      ],
      "text/plain": [
       "<IPython.lib.display.IFrame at 0x1837bcdfd70>"
      ]
     },
     "execution_count": 11,
     "metadata": {},
     "output_type": "execute_result"
    }
   ],
   "source": [
    "# Define net object\n",
    "\n",
    "net = Network()\n",
    "net = Network(notebook = True,width=\"900px\", height=\"800px\", bgcolor='#222222', font_color='white')\n",
    "\n",
    "# Define nodes from the G object\n",
    "node_degree = dict(G.degree)\n",
    "\n",
    "# Setting up node size attributes\n",
    "nx.set_node_attributes(G, node_degree, 'size')\n",
    "net.from_nx(G)\n",
    "net.show_buttons(filter_ = True)\n",
    "net.repulsion()\n",
    "net.show(\"country.html\")"
   ]
  },
  {
   "cell_type": "markdown",
   "id": "c60e4891-007c-46cc-a4fd-67d8ec0e14e1",
   "metadata": {
    "tags": []
   },
   "source": [
    "### Community detection - Leiden algorithm"
   ]
  },
  {
   "cell_type": "code",
   "execution_count": 13,
   "id": "882ff013-1974-4ccd-b7e9-28745ddb56ef",
   "metadata": {},
   "outputs": [
    {
     "ename": "ModuleNotFoundError",
     "evalue": "No module named 'cdlib'",
     "output_type": "error",
     "traceback": [
      "\u001b[1;31m---------------------------------------------------------------------------\u001b[0m",
      "\u001b[1;31mModuleNotFoundError\u001b[0m                       Traceback (most recent call last)",
      "Cell \u001b[1;32mIn[13], line 1\u001b[0m\n\u001b[1;32m----> 1\u001b[0m \u001b[38;5;28;01mfrom\u001b[39;00m \u001b[38;5;21;01mcdlib\u001b[39;00m \u001b[38;5;28;01mimport\u001b[39;00m algorithms\n\u001b[0;32m      2\u001b[0m coms \u001b[38;5;241m=\u001b[39m algorithms\u001b[38;5;241m.\u001b[39mleiden(G)\n",
      "\u001b[1;31mModuleNotFoundError\u001b[0m: No module named 'cdlib'"
     ]
    }
   ],
   "source": [
    "from cdlib import algorithms\n",
    "coms = algorithms.leiden(G)"
   ]
  },
  {
   "cell_type": "code",
   "execution_count": null,
   "id": "884adde6-c322-4124-85dc-b82cbfac91e5",
   "metadata": {},
   "outputs": [],
   "source": [
    "type(coms)"
   ]
  },
  {
   "cell_type": "code",
   "execution_count": null,
   "id": "f7ac3aa0-b15c-44e2-aaeb-fe1205db517d",
   "metadata": {},
   "outputs": [],
   "source": [
    "new_com = coms.to_node_community_map()"
   ]
  },
  {
   "cell_type": "code",
   "execution_count": null,
   "id": "f301655b-5d58-4fb2-99cc-6241c97925ad",
   "metadata": {},
   "outputs": [],
   "source": [
    "new_com"
   ]
  },
  {
   "cell_type": "code",
   "execution_count": null,
   "id": "3ffb2c15-2c77-405f-80a6-3568dbabd222",
   "metadata": {},
   "outputs": [],
   "source": [
    "# Put the output from new_com into a dictionary\n",
    "\n",
    "dict_com = {k:v[0] for k,v in new_com.items()}"
   ]
  },
  {
   "cell_type": "code",
   "execution_count": null,
   "id": "85d4d943-beff-4dd0-a1c8-0380d0964453",
   "metadata": {
    "scrolled": true
   },
   "outputs": [],
   "source": [
    "dict_com"
   ]
  },
  {
   "cell_type": "code",
   "execution_count": null,
   "id": "49bf3c87-c193-4e39-a566-195fd28e01c3",
   "metadata": {
    "tags": []
   },
   "outputs": [],
   "source": [
    "# Rerun network graph with the communities as an argument\n",
    "\n",
    "nx.set_node_attributes(G, dict_com, 'group')\n",
    "com_net = Network(notebook = True, width=\"1300px\", height=\"700px\", bgcolor='#222222', font_color='white')\n",
    "com_net.from_nx(G)\n",
    "com_net.show_buttons(filter_ = True)\n",
    "com_net.repulsion()\n",
    "com_net.show(\"country_communities_leiden.html\")"
   ]
  },
  {
   "cell_type": "markdown",
   "id": "d81eae98-009c-4036-ab9e-f97577f113cb",
   "metadata": {},
   "source": [
    "### The most important characters in Key Events of 20th Century - Wiki article"
   ]
  },
  {
   "cell_type": "code",
   "execution_count": null,
   "id": "e56775cd-fa41-4ed0-badf-f94da8adf9b8",
   "metadata": {
    "tags": []
   },
   "outputs": [],
   "source": [
    "# Degree centrality\n",
    "\n",
    "degree_dict = nx.degree_centrality(G)\n",
    "degree_dict"
   ]
  },
  {
   "cell_type": "code",
   "execution_count": null,
   "id": "e1d4c2c4-89ff-4c52-af29-94b6f677a7be",
   "metadata": {},
   "outputs": [],
   "source": [
    "degree_df = pd.DataFrame(degree_dict.items(), columns=['countries','centrality'])"
   ]
  },
  {
   "cell_type": "code",
   "execution_count": null,
   "id": "c5ec4050-6650-4498-a4b4-5ff8beca8721",
   "metadata": {
    "tags": []
   },
   "outputs": [],
   "source": [
    "degree_df.sort_values(by = ['centrality'], ascending=False, inplace = True)"
   ]
  },
  {
   "cell_type": "code",
   "execution_count": null,
   "id": "f4afbfba-4575-4f82-8c7a-e91e8377154e",
   "metadata": {},
   "outputs": [],
   "source": [
    "# Plot the degree centrality\n",
    "\n",
    "plt.figure(figsize = (10, 4))\n",
    "with sns.dark_palette(\"xkcd:blue\", 22):\n",
    "    sns.barplot(x = \"centrality\", y = \"countries\",\n",
    "    saturation = 0.9, data = degree_df).set_title(\" Key Events of 20th Century - degree centrality\")"
   ]
  },
  {
   "cell_type": "code",
   "execution_count": null,
   "id": "47160a39-1add-4ada-aa89-a34ef2cfad52",
   "metadata": {},
   "outputs": [],
   "source": [
    "# Closeness centrality\n",
    "\n",
    "closeness_dict = nx.closeness_centrality(G)\n",
    "closeness_df = pd.DataFrame(closeness_dict.items(), columns=['countries','centrality'])"
   ]
  },
  {
   "cell_type": "code",
   "execution_count": null,
   "id": "c094f8cf-6ba3-4b88-bf9b-68bb71df750a",
   "metadata": {},
   "outputs": [],
   "source": [
    "closeness_df.sort_values(by = ['centrality'], ascending=False, inplace = True)"
   ]
  },
  {
   "cell_type": "code",
   "execution_count": null,
   "id": "9e3a7149-2375-4202-bad0-f112d50b233e",
   "metadata": {},
   "outputs": [],
   "source": [
    "plt.figure(figsize = (10, 4))\n",
    "with sns.dark_palette(\"xkcd:blue\", 22):\n",
    "    sns.barplot(x = \"centrality\", y = \"countries\",\n",
    "    saturation = 0.9, data = closeness_df).set_title(\"Key Events of 20th Century - closeness centrality\")"
   ]
  },
  {
   "cell_type": "code",
   "execution_count": null,
   "id": "92fd2d1a-e705-4235-8d6c-436783e2b44c",
   "metadata": {},
   "outputs": [],
   "source": [
    "# Betweenness centrality\n",
    "\n",
    "betweenness_dict = nx.betweenness_centrality(G)\n",
    "betweennes_df = pd.DataFrame(betweenness_dict.items(), columns=['countries','centrality'])"
   ]
  },
  {
   "cell_type": "code",
   "execution_count": null,
   "id": "280318dc-cec2-4a48-8785-735e6f2bae43",
   "metadata": {},
   "outputs": [],
   "source": [
    "betweennes_df.sort_values(by = ['centrality'], ascending=False, inplace = True)"
   ]
  },
  {
   "cell_type": "code",
   "execution_count": null,
   "id": "b446a5a8-fe2d-490c-b88d-a63db9698966",
   "metadata": {},
   "outputs": [],
   "source": [
    "plt.figure(figsize = (10, 4))\n",
    "with sns.dark_palette(\"xkcd:blue\", 22):\n",
    "    sns.barplot(x = \"centrality\", y = \"countries\",\n",
    "    saturation = 0.9, data = betweennes_df).set_title(\"Key Events of 20th Century - betweenness centrality\")"
   ]
  },
  {
   "cell_type": "code",
   "execution_count": null,
   "id": "63d7574e-c9c9-4c08-a70e-2ad52386b572",
   "metadata": {},
   "outputs": [],
   "source": [
    "# Save centrality measures\n",
    "nx.set_node_attributes(G, degree_dict, 'degree_centrality')\n",
    "nx.set_node_attributes(G, betweenness_dict, 'betweenness_centrality')\n",
    "nx.set_node_attributes(G, closeness_dict, 'closeness_centrality')"
   ]
  }
 ],
 "metadata": {
  "kernelspec": {
   "display_name": "Python [conda env:20th_century]",
   "language": "python",
   "name": "conda-env-20th_century-py"
  },
  "language_info": {
   "codemirror_mode": {
    "name": "ipython",
    "version": 3
   },
   "file_extension": ".py",
   "mimetype": "text/x-python",
   "name": "python",
   "nbconvert_exporter": "python",
   "pygments_lexer": "ipython3",
   "version": "3.12.7"
  }
 },
 "nbformat": 4,
 "nbformat_minor": 5
}
