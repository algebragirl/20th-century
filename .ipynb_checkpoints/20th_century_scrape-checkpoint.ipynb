{
 "cells": [
  {
   "cell_type": "code",
   "execution_count": 11,
   "id": "2aafed7b-7d04-460d-a5c7-7e33d7ab73f7",
   "metadata": {},
   "outputs": [],
   "source": [
    "#import libraries to set up scrape"
   ]
  },
  {
   "cell_type": "code",
   "execution_count": 13,
   "id": "321f36da-de50-459e-9d6b-0b8bfad8f25a",
   "metadata": {},
   "outputs": [],
   "source": [
    "from bs4 import BeautifulSoup\n",
    "import requests "
   ]
  },
  {
   "cell_type": "code",
   "execution_count": 15,
   "id": "ad2e4609-82cb-4774-b230-ab2c3670c3e5",
   "metadata": {},
   "outputs": [],
   "source": [
    "# Get URL\n",
    "\n",
    "page =  requests.get(\"https://en.wikipedia.org/wiki/20th_century\")"
   ]
  },
  {
   "cell_type": "code",
   "execution_count": 17,
   "id": "bc6411b0-fad9-485c-a789-5a88f979c3e2",
   "metadata": {},
   "outputs": [
    {
     "name": "stdout",
     "output_type": "stream",
     "text": [
      "<title>20th century - Wikipedia</title>\n"
     ]
    }
   ],
   "source": [
    "# Create soup and get title\n",
    "# Soup is the opject that contains the parsed HTML content\n",
    "\n",
    "soup = BeautifulSoup(page.text, 'html.parser')   #parser translates the HTML code\n",
    "print(soup.title)                                #important to include title in code to ensure everything went through properly"
   ]
  },
  {
   "cell_type": "code",
   "execution_count": 19,
   "id": "f6675142-43f2-4463-b474-2190bbe82831",
   "metadata": {},
   "outputs": [],
   "source": [
    "#Create new object that stores all the text\n",
    "\n",
    "text = soup.get_text()\n",
    "\n",
    "text = text.encode ('utf-8')    #define its encoding\n",
    "\n",
    "with open('20th_Century_article_Wiki.txt', 'wb') as f:     \n",
    "       f.write(text)                                     #save file in the working directory"
   ]
  },
  {
   "cell_type": "code",
   "execution_count": null,
   "id": "40b3efeb-f9a7-4648-bcd5-468615b2fbbb",
   "metadata": {},
   "outputs": [],
   "source": []
  }
 ],
 "metadata": {
  "kernelspec": {
   "display_name": "Python [conda env:20th_century]",
   "language": "python",
   "name": "conda-env-20th_century-py"
  },
  "language_info": {
   "codemirror_mode": {
    "name": "ipython",
    "version": 3
   },
   "file_extension": ".py",
   "mimetype": "text/x-python",
   "name": "python",
   "nbconvert_exporter": "python",
   "pygments_lexer": "ipython3",
   "version": "3.12.7"
  }
 },
 "nbformat": 4,
 "nbformat_minor": 5
}
