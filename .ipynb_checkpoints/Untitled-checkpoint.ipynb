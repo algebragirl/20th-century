{
 "cells": [
  {
   "cell_type": "code",
   "execution_count": 3,
   "id": "26c9b46e-0921-40c3-9c0b-d00248e26b63",
   "metadata": {},
   "outputs": [],
   "source": [
    "import pandas as pd"
   ]
  },
  {
   "cell_type": "markdown",
   "id": "19712618-a312-4f3a-baa9-eba47cc0b070",
   "metadata": {},
   "source": [
    "#### Task 1.3 #5: create test dataframe with at least 1 numeric and 1 text column"
   ]
  },
  {
   "cell_type": "code",
   "execution_count": 13,
   "id": "97bd1c63-7083-4207-a624-dc39f38ade76",
   "metadata": {},
   "outputs": [],
   "source": [
    "data = pd.DataFrame({\"Name\":['Aragon', 'Boromir', 'Frodo', 'Galadriel'],\n",
    "                    \"Race\": ['human', 'human', 'hobbit', 'elf'],\n",
    "                     \"Age\": [88,41,51,8382]})"
   ]
  },
  {
   "cell_type": "markdown",
   "id": "b3d69a2d-f69a-482f-a4a9-dcef67f26b04",
   "metadata": {},
   "source": [
    "#### Task 1.3 #6: create a new column (age_2) and execute a math procedure in an existing column using a lambda function"
   ]
  },
  {
   "cell_type": "code",
   "execution_count": 15,
   "id": "44ea845b-c46e-487e-865b-f7f0d495c086",
   "metadata": {},
   "outputs": [],
   "source": [
    "divide_2 = lambda x: x/10"
   ]
  },
  {
   "cell_type": "code",
   "execution_count": 21,
   "id": "6d60704b-2eee-422e-bef4-b869bb2c5214",
   "metadata": {},
   "outputs": [
    {
     "data": {
      "text/plain": [
       "0      8.8\n",
       "1      4.1\n",
       "2      5.1\n",
       "3    838.2\n",
       "Name: Age, dtype: float64"
      ]
     },
     "execution_count": 21,
     "metadata": {},
     "output_type": "execute_result"
    }
   ],
   "source": [
    "divide_2(data['Age'])"
   ]
  },
  {
   "cell_type": "code",
   "execution_count": 19,
   "id": "912c5785-db82-4d86-adb7-ff1e1d69ea28",
   "metadata": {},
   "outputs": [],
   "source": [
    "data['age_2'] = divide_2(data['Age'])"
   ]
  },
  {
   "cell_type": "code",
   "execution_count": 23,
   "id": "028f7fc4-fcfe-47a0-bfff-40ecbd487d46",
   "metadata": {},
   "outputs": [
    {
     "data": {
      "text/html": [
       "<div>\n",
       "<style scoped>\n",
       "    .dataframe tbody tr th:only-of-type {\n",
       "        vertical-align: middle;\n",
       "    }\n",
       "\n",
       "    .dataframe tbody tr th {\n",
       "        vertical-align: top;\n",
       "    }\n",
       "\n",
       "    .dataframe thead th {\n",
       "        text-align: right;\n",
       "    }\n",
       "</style>\n",
       "<table border=\"1\" class=\"dataframe\">\n",
       "  <thead>\n",
       "    <tr style=\"text-align: right;\">\n",
       "      <th></th>\n",
       "      <th>Name</th>\n",
       "      <th>Race</th>\n",
       "      <th>Age</th>\n",
       "      <th>age_2</th>\n",
       "    </tr>\n",
       "  </thead>\n",
       "  <tbody>\n",
       "    <tr>\n",
       "      <th>0</th>\n",
       "      <td>Aragon</td>\n",
       "      <td>human</td>\n",
       "      <td>88</td>\n",
       "      <td>8.8</td>\n",
       "    </tr>\n",
       "    <tr>\n",
       "      <th>1</th>\n",
       "      <td>Boromir</td>\n",
       "      <td>human</td>\n",
       "      <td>41</td>\n",
       "      <td>4.1</td>\n",
       "    </tr>\n",
       "    <tr>\n",
       "      <th>2</th>\n",
       "      <td>Frodo</td>\n",
       "      <td>hobbit</td>\n",
       "      <td>51</td>\n",
       "      <td>5.1</td>\n",
       "    </tr>\n",
       "    <tr>\n",
       "      <th>3</th>\n",
       "      <td>Galadriel</td>\n",
       "      <td>elf</td>\n",
       "      <td>8382</td>\n",
       "      <td>838.2</td>\n",
       "    </tr>\n",
       "  </tbody>\n",
       "</table>\n",
       "</div>"
      ],
      "text/plain": [
       "        Name    Race   Age  age_2\n",
       "0     Aragon   human    88    8.8\n",
       "1    Boromir   human    41    4.1\n",
       "2      Frodo  hobbit    51    5.1\n",
       "3  Galadriel     elf  8382  838.2"
      ]
     },
     "execution_count": 23,
     "metadata": {},
     "output_type": "execute_result"
    }
   ],
   "source": [
    "data"
   ]
  },
  {
   "cell_type": "markdown",
   "id": "daafa63e-5c5b-4602-a6d8-18792a62436a",
   "metadata": {},
   "source": [
    "#### Task 1.3 #7: Create a flag column from the text column in our example dataframe using a lambda function"
   ]
  },
  {
   "cell_type": "code",
   "execution_count": 27,
   "id": "e8d3a593-9a5a-44c3-9698-f7fc45b8df7d",
   "metadata": {},
   "outputs": [],
   "source": [
    "data['age_label'] = data['Age'].apply(\n",
    "    lambda x: 'elven old' if x > 500 else ('middle-aged' if x >=100 else 'young'))"
   ]
  },
  {
   "cell_type": "code",
   "execution_count": 29,
   "id": "6ff9145c-412e-425f-a0e1-b40fa6a0da17",
   "metadata": {},
   "outputs": [
    {
     "data": {
      "text/html": [
       "<div>\n",
       "<style scoped>\n",
       "    .dataframe tbody tr th:only-of-type {\n",
       "        vertical-align: middle;\n",
       "    }\n",
       "\n",
       "    .dataframe tbody tr th {\n",
       "        vertical-align: top;\n",
       "    }\n",
       "\n",
       "    .dataframe thead th {\n",
       "        text-align: right;\n",
       "    }\n",
       "</style>\n",
       "<table border=\"1\" class=\"dataframe\">\n",
       "  <thead>\n",
       "    <tr style=\"text-align: right;\">\n",
       "      <th></th>\n",
       "      <th>Name</th>\n",
       "      <th>Race</th>\n",
       "      <th>Age</th>\n",
       "      <th>age_2</th>\n",
       "      <th>age_label</th>\n",
       "    </tr>\n",
       "  </thead>\n",
       "  <tbody>\n",
       "    <tr>\n",
       "      <th>0</th>\n",
       "      <td>Aragon</td>\n",
       "      <td>human</td>\n",
       "      <td>88</td>\n",
       "      <td>8.8</td>\n",
       "      <td>young</td>\n",
       "    </tr>\n",
       "    <tr>\n",
       "      <th>1</th>\n",
       "      <td>Boromir</td>\n",
       "      <td>human</td>\n",
       "      <td>41</td>\n",
       "      <td>4.1</td>\n",
       "      <td>young</td>\n",
       "    </tr>\n",
       "    <tr>\n",
       "      <th>2</th>\n",
       "      <td>Frodo</td>\n",
       "      <td>hobbit</td>\n",
       "      <td>51</td>\n",
       "      <td>5.1</td>\n",
       "      <td>young</td>\n",
       "    </tr>\n",
       "    <tr>\n",
       "      <th>3</th>\n",
       "      <td>Galadriel</td>\n",
       "      <td>elf</td>\n",
       "      <td>8382</td>\n",
       "      <td>838.2</td>\n",
       "      <td>elven old</td>\n",
       "    </tr>\n",
       "  </tbody>\n",
       "</table>\n",
       "</div>"
      ],
      "text/plain": [
       "        Name    Race   Age  age_2  age_label\n",
       "0     Aragon   human    88    8.8      young\n",
       "1    Boromir   human    41    4.1      young\n",
       "2      Frodo  hobbit    51    5.1      young\n",
       "3  Galadriel     elf  8382  838.2  elven old"
      ]
     },
     "execution_count": 29,
     "metadata": {},
     "output_type": "execute_result"
    }
   ],
   "source": [
    "data"
   ]
  },
  {
   "cell_type": "code",
   "execution_count": null,
   "id": "f64b7486-796c-4dd7-a3f8-6bba0a1b4373",
   "metadata": {},
   "outputs": [],
   "source": []
  }
 ],
 "metadata": {
  "kernelspec": {
   "display_name": "Python [conda env:20th_century]",
   "language": "python",
   "name": "conda-env-20th_century-py"
  },
  "language_info": {
   "codemirror_mode": {
    "name": "ipython",
    "version": 3
   },
   "file_extension": ".py",
   "mimetype": "text/x-python",
   "name": "python",
   "nbconvert_exporter": "python",
   "pygments_lexer": "ipython3",
   "version": "3.12.7"
  }
 },
 "nbformat": 4,
 "nbformat_minor": 5
}
