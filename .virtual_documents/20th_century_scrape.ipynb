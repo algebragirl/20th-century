#import libraries to set up scrape


from bs4 import BeautifulSoup
import requests 


# Get URL

page =  requests.get("https://en.wikipedia.org/wiki/20th_century")


# Create soup and get title
# Soup is the opject that contains the parsed HTML content

soup = BeautifulSoup(page.text, 'html.parser')   #parser translates the HTML code
print(soup.title)                                #important to include title in code to ensure everything went through properly


#Create new object that stores all the text

text = soup.get_text()

text = text.encode ('utf-8')    #define its encoding

with open('20th_Century_article_Wiki.txt', 'wb') as f:     
       f.write(text)                                     #save file in the working directory



