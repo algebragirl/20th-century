import pandas as pd





data = pd.DataFrame({"Name":['Aragon', 'Boromir', 'Frodo', 'Galadriel'],
                    "Race": ['human', 'human', 'hobbit', 'elf'],
                     "Age": [88,41,51,8382]})





divide_2 = lambda x: x/10


divide_2(data['Age'])


data['age_2'] = divide_2(data['Age'])


data





data['age_label'] = data['Age'].apply(
    lambda x: 'elven old' if x > 500 else ('middle-aged' if x >=100 else 'young'))


data



