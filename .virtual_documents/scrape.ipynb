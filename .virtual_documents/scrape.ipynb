from bs4 import BeautifulSoup
import requests 


# Get URL

page =  requests.get("https://en.wikipedia.org/wiki/20th_century")


# Create soup and get title

soup = BeautifulSoup(page.text, 'html.parser')
print(soup.title)  


text = soup.get_text()

text = text.encode ('utf-8')

with open('Alice_article_Wiki.txt', 'wb') as f:
       f.write(text)



